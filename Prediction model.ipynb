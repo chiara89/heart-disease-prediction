{
 "cells": [
  {
   "cell_type": "code",
   "execution_count": 1,
   "metadata": {},
   "outputs": [
    {
     "name": "stdout",
     "output_type": "stream",
     "text": [
      "['README.md', '.ipynb_checkpoints', 'multiscorer.py', 'data', 'multiscorer-master', '.git', 'Prediction model.ipynb', '__pycache__']\n"
     ]
    }
   ],
   "source": [
    "import numpy as np\n",
    "import pandas as pd\n",
    "import matplotlib.pyplot as plt\n",
    "import seaborn as sns\n",
    "\n",
    "%matplotlib inline\n",
    "\n",
    "import os\n",
    "print(os.listdir())\n",
    "\n",
    "import warnings\n",
    "warnings.filterwarnings('ignore')"
   ]
  },
  {
   "cell_type": "code",
   "execution_count": 2,
   "metadata": {},
   "outputs": [],
   "source": [
    "data = pd.read_csv(\"data/heart.csv\")"
   ]
  },
  {
   "cell_type": "code",
   "execution_count": 3,
   "metadata": {},
   "outputs": [
    {
     "data": {
      "text/plain": [
       "pandas.core.frame.DataFrame"
      ]
     },
     "execution_count": 3,
     "metadata": {},
     "output_type": "execute_result"
    }
   ],
   "source": [
    "type(data)"
   ]
  },
  {
   "cell_type": "code",
   "execution_count": 4,
   "metadata": {},
   "outputs": [
    {
     "data": {
      "text/plain": [
       "(303, 14)"
      ]
     },
     "execution_count": 4,
     "metadata": {},
     "output_type": "execute_result"
    }
   ],
   "source": [
    "data.shape"
   ]
  },
  {
   "cell_type": "code",
   "execution_count": 5,
   "metadata": {},
   "outputs": [
    {
     "data": {
      "text/html": [
       "<div>\n",
       "<style scoped>\n",
       "    .dataframe tbody tr th:only-of-type {\n",
       "        vertical-align: middle;\n",
       "    }\n",
       "\n",
       "    .dataframe tbody tr th {\n",
       "        vertical-align: top;\n",
       "    }\n",
       "\n",
       "    .dataframe thead th {\n",
       "        text-align: right;\n",
       "    }\n",
       "</style>\n",
       "<table border=\"1\" class=\"dataframe\">\n",
       "  <thead>\n",
       "    <tr style=\"text-align: right;\">\n",
       "      <th></th>\n",
       "      <th>age</th>\n",
       "      <th>sex</th>\n",
       "      <th>cp</th>\n",
       "      <th>trestbps</th>\n",
       "      <th>chol</th>\n",
       "      <th>fbs</th>\n",
       "      <th>restecg</th>\n",
       "      <th>thalach</th>\n",
       "      <th>exang</th>\n",
       "      <th>oldpeak</th>\n",
       "      <th>slope</th>\n",
       "      <th>ca</th>\n",
       "      <th>thal</th>\n",
       "      <th>target</th>\n",
       "    </tr>\n",
       "  </thead>\n",
       "  <tbody>\n",
       "    <tr>\n",
       "      <th>0</th>\n",
       "      <td>63</td>\n",
       "      <td>1</td>\n",
       "      <td>3</td>\n",
       "      <td>145</td>\n",
       "      <td>233</td>\n",
       "      <td>1</td>\n",
       "      <td>0</td>\n",
       "      <td>150</td>\n",
       "      <td>0</td>\n",
       "      <td>2.3</td>\n",
       "      <td>0</td>\n",
       "      <td>0</td>\n",
       "      <td>1</td>\n",
       "      <td>1</td>\n",
       "    </tr>\n",
       "    <tr>\n",
       "      <th>1</th>\n",
       "      <td>37</td>\n",
       "      <td>1</td>\n",
       "      <td>2</td>\n",
       "      <td>130</td>\n",
       "      <td>250</td>\n",
       "      <td>0</td>\n",
       "      <td>1</td>\n",
       "      <td>187</td>\n",
       "      <td>0</td>\n",
       "      <td>3.5</td>\n",
       "      <td>0</td>\n",
       "      <td>0</td>\n",
       "      <td>2</td>\n",
       "      <td>1</td>\n",
       "    </tr>\n",
       "    <tr>\n",
       "      <th>2</th>\n",
       "      <td>41</td>\n",
       "      <td>0</td>\n",
       "      <td>1</td>\n",
       "      <td>130</td>\n",
       "      <td>204</td>\n",
       "      <td>0</td>\n",
       "      <td>0</td>\n",
       "      <td>172</td>\n",
       "      <td>0</td>\n",
       "      <td>1.4</td>\n",
       "      <td>2</td>\n",
       "      <td>0</td>\n",
       "      <td>2</td>\n",
       "      <td>1</td>\n",
       "    </tr>\n",
       "    <tr>\n",
       "      <th>3</th>\n",
       "      <td>56</td>\n",
       "      <td>1</td>\n",
       "      <td>1</td>\n",
       "      <td>120</td>\n",
       "      <td>236</td>\n",
       "      <td>0</td>\n",
       "      <td>1</td>\n",
       "      <td>178</td>\n",
       "      <td>0</td>\n",
       "      <td>0.8</td>\n",
       "      <td>2</td>\n",
       "      <td>0</td>\n",
       "      <td>2</td>\n",
       "      <td>1</td>\n",
       "    </tr>\n",
       "    <tr>\n",
       "      <th>4</th>\n",
       "      <td>57</td>\n",
       "      <td>0</td>\n",
       "      <td>0</td>\n",
       "      <td>120</td>\n",
       "      <td>354</td>\n",
       "      <td>0</td>\n",
       "      <td>1</td>\n",
       "      <td>163</td>\n",
       "      <td>1</td>\n",
       "      <td>0.6</td>\n",
       "      <td>2</td>\n",
       "      <td>0</td>\n",
       "      <td>2</td>\n",
       "      <td>1</td>\n",
       "    </tr>\n",
       "  </tbody>\n",
       "</table>\n",
       "</div>"
      ],
      "text/plain": [
       "   age  sex  cp  trestbps  chol  fbs  restecg  thalach  exang  oldpeak  slope  \\\n",
       "0   63    1   3       145   233    1        0      150      0      2.3      0   \n",
       "1   37    1   2       130   250    0        1      187      0      3.5      0   \n",
       "2   41    0   1       130   204    0        0      172      0      1.4      2   \n",
       "3   56    1   1       120   236    0        1      178      0      0.8      2   \n",
       "4   57    0   0       120   354    0        1      163      1      0.6      2   \n",
       "\n",
       "   ca  thal  target  \n",
       "0   0     1       1  \n",
       "1   0     2       1  \n",
       "2   0     2       1  \n",
       "3   0     2       1  \n",
       "4   0     2       1  "
      ]
     },
     "execution_count": 5,
     "metadata": {},
     "output_type": "execute_result"
    }
   ],
   "source": [
    "data.head()"
   ]
  },
  {
   "cell_type": "code",
   "execution_count": 6,
   "metadata": {},
   "outputs": [
    {
     "data": {
      "text/html": [
       "<div>\n",
       "<style scoped>\n",
       "    .dataframe tbody tr th:only-of-type {\n",
       "        vertical-align: middle;\n",
       "    }\n",
       "\n",
       "    .dataframe tbody tr th {\n",
       "        vertical-align: top;\n",
       "    }\n",
       "\n",
       "    .dataframe thead th {\n",
       "        text-align: right;\n",
       "    }\n",
       "</style>\n",
       "<table border=\"1\" class=\"dataframe\">\n",
       "  <thead>\n",
       "    <tr style=\"text-align: right;\">\n",
       "      <th></th>\n",
       "      <th>age</th>\n",
       "      <th>sex</th>\n",
       "      <th>cp</th>\n",
       "      <th>trestbps</th>\n",
       "      <th>chol</th>\n",
       "      <th>fbs</th>\n",
       "      <th>restecg</th>\n",
       "      <th>thalach</th>\n",
       "      <th>exang</th>\n",
       "      <th>oldpeak</th>\n",
       "      <th>slope</th>\n",
       "      <th>ca</th>\n",
       "      <th>thal</th>\n",
       "      <th>target</th>\n",
       "    </tr>\n",
       "  </thead>\n",
       "  <tbody>\n",
       "    <tr>\n",
       "      <th>count</th>\n",
       "      <td>303.000000</td>\n",
       "      <td>303.000000</td>\n",
       "      <td>303.000000</td>\n",
       "      <td>303.000000</td>\n",
       "      <td>303.000000</td>\n",
       "      <td>303.000000</td>\n",
       "      <td>303.000000</td>\n",
       "      <td>303.000000</td>\n",
       "      <td>303.000000</td>\n",
       "      <td>303.000000</td>\n",
       "      <td>303.000000</td>\n",
       "      <td>303.000000</td>\n",
       "      <td>303.000000</td>\n",
       "      <td>303.000000</td>\n",
       "    </tr>\n",
       "    <tr>\n",
       "      <th>mean</th>\n",
       "      <td>54.366337</td>\n",
       "      <td>0.683168</td>\n",
       "      <td>0.966997</td>\n",
       "      <td>131.623762</td>\n",
       "      <td>246.264026</td>\n",
       "      <td>0.148515</td>\n",
       "      <td>0.528053</td>\n",
       "      <td>149.646865</td>\n",
       "      <td>0.326733</td>\n",
       "      <td>1.039604</td>\n",
       "      <td>1.399340</td>\n",
       "      <td>0.729373</td>\n",
       "      <td>2.313531</td>\n",
       "      <td>0.544554</td>\n",
       "    </tr>\n",
       "    <tr>\n",
       "      <th>std</th>\n",
       "      <td>9.082101</td>\n",
       "      <td>0.466011</td>\n",
       "      <td>1.032052</td>\n",
       "      <td>17.538143</td>\n",
       "      <td>51.830751</td>\n",
       "      <td>0.356198</td>\n",
       "      <td>0.525860</td>\n",
       "      <td>22.905161</td>\n",
       "      <td>0.469794</td>\n",
       "      <td>1.161075</td>\n",
       "      <td>0.616226</td>\n",
       "      <td>1.022606</td>\n",
       "      <td>0.612277</td>\n",
       "      <td>0.498835</td>\n",
       "    </tr>\n",
       "    <tr>\n",
       "      <th>min</th>\n",
       "      <td>29.000000</td>\n",
       "      <td>0.000000</td>\n",
       "      <td>0.000000</td>\n",
       "      <td>94.000000</td>\n",
       "      <td>126.000000</td>\n",
       "      <td>0.000000</td>\n",
       "      <td>0.000000</td>\n",
       "      <td>71.000000</td>\n",
       "      <td>0.000000</td>\n",
       "      <td>0.000000</td>\n",
       "      <td>0.000000</td>\n",
       "      <td>0.000000</td>\n",
       "      <td>0.000000</td>\n",
       "      <td>0.000000</td>\n",
       "    </tr>\n",
       "    <tr>\n",
       "      <th>25%</th>\n",
       "      <td>47.500000</td>\n",
       "      <td>0.000000</td>\n",
       "      <td>0.000000</td>\n",
       "      <td>120.000000</td>\n",
       "      <td>211.000000</td>\n",
       "      <td>0.000000</td>\n",
       "      <td>0.000000</td>\n",
       "      <td>133.500000</td>\n",
       "      <td>0.000000</td>\n",
       "      <td>0.000000</td>\n",
       "      <td>1.000000</td>\n",
       "      <td>0.000000</td>\n",
       "      <td>2.000000</td>\n",
       "      <td>0.000000</td>\n",
       "    </tr>\n",
       "    <tr>\n",
       "      <th>50%</th>\n",
       "      <td>55.000000</td>\n",
       "      <td>1.000000</td>\n",
       "      <td>1.000000</td>\n",
       "      <td>130.000000</td>\n",
       "      <td>240.000000</td>\n",
       "      <td>0.000000</td>\n",
       "      <td>1.000000</td>\n",
       "      <td>153.000000</td>\n",
       "      <td>0.000000</td>\n",
       "      <td>0.800000</td>\n",
       "      <td>1.000000</td>\n",
       "      <td>0.000000</td>\n",
       "      <td>2.000000</td>\n",
       "      <td>1.000000</td>\n",
       "    </tr>\n",
       "    <tr>\n",
       "      <th>75%</th>\n",
       "      <td>61.000000</td>\n",
       "      <td>1.000000</td>\n",
       "      <td>2.000000</td>\n",
       "      <td>140.000000</td>\n",
       "      <td>274.500000</td>\n",
       "      <td>0.000000</td>\n",
       "      <td>1.000000</td>\n",
       "      <td>166.000000</td>\n",
       "      <td>1.000000</td>\n",
       "      <td>1.600000</td>\n",
       "      <td>2.000000</td>\n",
       "      <td>1.000000</td>\n",
       "      <td>3.000000</td>\n",
       "      <td>1.000000</td>\n",
       "    </tr>\n",
       "    <tr>\n",
       "      <th>max</th>\n",
       "      <td>77.000000</td>\n",
       "      <td>1.000000</td>\n",
       "      <td>3.000000</td>\n",
       "      <td>200.000000</td>\n",
       "      <td>564.000000</td>\n",
       "      <td>1.000000</td>\n",
       "      <td>2.000000</td>\n",
       "      <td>202.000000</td>\n",
       "      <td>1.000000</td>\n",
       "      <td>6.200000</td>\n",
       "      <td>2.000000</td>\n",
       "      <td>4.000000</td>\n",
       "      <td>3.000000</td>\n",
       "      <td>1.000000</td>\n",
       "    </tr>\n",
       "  </tbody>\n",
       "</table>\n",
       "</div>"
      ],
      "text/plain": [
       "              age         sex          cp    trestbps        chol         fbs  \\\n",
       "count  303.000000  303.000000  303.000000  303.000000  303.000000  303.000000   \n",
       "mean    54.366337    0.683168    0.966997  131.623762  246.264026    0.148515   \n",
       "std      9.082101    0.466011    1.032052   17.538143   51.830751    0.356198   \n",
       "min     29.000000    0.000000    0.000000   94.000000  126.000000    0.000000   \n",
       "25%     47.500000    0.000000    0.000000  120.000000  211.000000    0.000000   \n",
       "50%     55.000000    1.000000    1.000000  130.000000  240.000000    0.000000   \n",
       "75%     61.000000    1.000000    2.000000  140.000000  274.500000    0.000000   \n",
       "max     77.000000    1.000000    3.000000  200.000000  564.000000    1.000000   \n",
       "\n",
       "          restecg     thalach       exang     oldpeak       slope          ca  \\\n",
       "count  303.000000  303.000000  303.000000  303.000000  303.000000  303.000000   \n",
       "mean     0.528053  149.646865    0.326733    1.039604    1.399340    0.729373   \n",
       "std      0.525860   22.905161    0.469794    1.161075    0.616226    1.022606   \n",
       "min      0.000000   71.000000    0.000000    0.000000    0.000000    0.000000   \n",
       "25%      0.000000  133.500000    0.000000    0.000000    1.000000    0.000000   \n",
       "50%      1.000000  153.000000    0.000000    0.800000    1.000000    0.000000   \n",
       "75%      1.000000  166.000000    1.000000    1.600000    2.000000    1.000000   \n",
       "max      2.000000  202.000000    1.000000    6.200000    2.000000    4.000000   \n",
       "\n",
       "             thal      target  \n",
       "count  303.000000  303.000000  \n",
       "mean     2.313531    0.544554  \n",
       "std      0.612277    0.498835  \n",
       "min      0.000000    0.000000  \n",
       "25%      2.000000    0.000000  \n",
       "50%      2.000000    1.000000  \n",
       "75%      3.000000    1.000000  \n",
       "max      3.000000    1.000000  "
      ]
     },
     "execution_count": 6,
     "metadata": {},
     "output_type": "execute_result"
    }
   ],
   "source": [
    "data.describe()"
   ]
  },
  {
   "cell_type": "code",
   "execution_count": 7,
   "metadata": {},
   "outputs": [
    {
     "name": "stdout",
     "output_type": "stream",
     "text": [
      "<class 'pandas.core.frame.DataFrame'>\n",
      "RangeIndex: 303 entries, 0 to 302\n",
      "Data columns (total 14 columns):\n",
      " #   Column    Non-Null Count  Dtype  \n",
      "---  ------    --------------  -----  \n",
      " 0   age       303 non-null    int64  \n",
      " 1   sex       303 non-null    int64  \n",
      " 2   cp        303 non-null    int64  \n",
      " 3   trestbps  303 non-null    int64  \n",
      " 4   chol      303 non-null    int64  \n",
      " 5   fbs       303 non-null    int64  \n",
      " 6   restecg   303 non-null    int64  \n",
      " 7   thalach   303 non-null    int64  \n",
      " 8   exang     303 non-null    int64  \n",
      " 9   oldpeak   303 non-null    float64\n",
      " 10  slope     303 non-null    int64  \n",
      " 11  ca        303 non-null    int64  \n",
      " 12  thal      303 non-null    int64  \n",
      " 13  target    303 non-null    int64  \n",
      "dtypes: float64(1), int64(13)\n",
      "memory usage: 33.3 KB\n"
     ]
    }
   ],
   "source": [
    "data.info()"
   ]
  },
  {
   "cell_type": "markdown",
   "metadata": {},
   "source": [
    "1. age: The person's age in years\n",
    "\n",
    "2. sex: The person's sex (1 = male, 0 = female)\n",
    "\n",
    "3. cp: The chest pain experienced (Value 1: typical angina, Value 2: atypical angina, Value 3: non-anginal pain, Value 4: asymptomatic)\n",
    "\n",
    "4. trestbps: The person's resting blood pressure (mm Hg on admission to the hospital)\n",
    "\n",
    "5. chol: The person's cholesterol measurement in mg/dl\n",
    "\n",
    "6. fbs: The person's fasting blood sugar (> 120 mg/dl, 1 = true; 0 = false)\n",
    "\n",
    "7. restecg: Resting electrocardiographic measurement (0 = normal, 1 = having ST-T wave abnormality, 2 = showing probable or definite left ventricular hypertrophy by Estes' criteria)\n",
    "\n",
    "8. thalach: The person's maximum heart rate achieved\n",
    "\n",
    "9. exang: Exercise induced angina (1 = yes; 0 = no)\n",
    "\n",
    "10. oldpeak: ST depression induced by exercise relative to rest ('ST' relates to positions on the ECG plot. See more here)\n",
    "\n",
    "11. slope: the slope of the peak exercise ST segment (Value 1: upsloping, Value 2: flat, Value 3: downsloping)\n",
    "\n",
    "12. ca: The number of major vessels (0-3)\n",
    "\n",
    "13. thal: A blood disorder called thalassemia (3 = normal; 6 = fixed defect; 7 = reversable defect)\n",
    "\n",
    "14. target: Heart disease (0 = no, 1 = yes)\n",
    "\n",
    "Heart disease risk factors to the following: high cholesterol, high blood pressure, diabetes, weight, family history and smoking . \n",
    "\n",
    "According to another source , the major factors that can't be changed are: increasing age, male gender and heredity. \n",
    "\n",
    "Note that thalassemia, one of the variables in this dataset, is heredity. \n",
    "\n",
    "Major factors that can be modified are: Smoking, high cholesterol, high blood pressure, physical inactivity, and being overweight and having diabetes. \n",
    "\n",
    "Other factors include stress, alcohol and poor diet/nutrition."
   ]
  },
  {
   "cell_type": "markdown",
   "metadata": {},
   "source": [
    "data.isnull().sum().sum()"
   ]
  },
  {
   "cell_type": "markdown",
   "metadata": {},
   "source": [
    "No missing values"
   ]
  },
  {
   "cell_type": "markdown",
   "metadata": {},
   "source": [
    "<h3>Separating Serving data"
   ]
  },
  {
   "cell_type": "code",
   "execution_count": 27,
   "metadata": {},
   "outputs": [],
   "source": [
    "from sklearn.model_selection import train_test_split\n",
    "\n",
    "\n",
    "dev, serv = train_test_split(data, test_size=0.10, random_state=0)\n",
    "dev.to_csv('data/dev_data.csv',index=False)\n",
    "serv.to_csv('data/serv_data.csv',index=False)\n",
    "X_dev = dev.drop(\"target\",axis=1)\n",
    "Y_dev = dev[\"target\"]\n",
    "#X_train,X_serv,Y_train,Y_serv = train_test_split(predictors,target,test_size=0.10,random_state=0)"
   ]
  },
  {
   "cell_type": "markdown",
   "metadata": {},
   "source": [
    "<h3>Prediction models"
   ]
  },
  {
   "cell_type": "code",
   "execution_count": 18,
   "metadata": {},
   "outputs": [
    {
     "name": "stdout",
     "output_type": "stream",
     "text": [
      "Multi-layer perceptron\n",
      "accuracy : 0.764848\n",
      "precision : 0.778901\n",
      "recall : 0.755430\n",
      "F-measure : 0.754229\n",
      "Logistic Regression\n",
      "accuracy : 0.805253\n",
      "precision : 0.819458\n",
      "recall : 0.796234\n",
      "F-measure : 0.797240\n",
      "Naive Bayes\n",
      "accuracy : 0.808956\n",
      "precision : 0.820190\n",
      "recall : 0.801554\n",
      "F-measure : 0.802467\n",
      "Decision Tree\n",
      "accuracy : 0.794158\n",
      "precision : 0.802475\n",
      "recall : 0.787922\n",
      "F-measure : 0.788460\n",
      "SVM\n",
      "accuracy : 0.763300\n",
      "precision : 0.773267\n",
      "recall : 0.753398\n",
      "F-measure : 0.751884\n"
     ]
    }
   ],
   "source": [
    "from sklearn.linear_model import LogisticRegression\n",
    "from sklearn.svm import SVC\n",
    "from sklearn.naive_bayes import GaussianNB\n",
    "from sklearn.tree import DecisionTreeClassifier\n",
    "from sklearn.neural_network import MLPClassifier\n",
    "from multiscorer import MultiScorer\n",
    "from sklearn.model_selection import GridSearchCV\n",
    "import numpy as np\n",
    "from sklearn.metrics import *          \n",
    "from sklearn.model_selection import cross_val_score\n",
    "from numpy import average\n",
    "\n",
    "scorer = MultiScorer({\n",
    "    'accuracy' : (accuracy_score,  {}),\n",
    "    'precision': (precision_score,{'average': 'macro'}),\n",
    "    'recall'   : (recall_score,   {'average': 'macro'}),\n",
    "    'F-measure': (f1_score,        {'average': 'macro'})\n",
    "})\n",
    "\n",
    "mlp = MLPClassifier(max_iter=100)\n",
    "parameter_space = {\n",
    "    'hidden_layer_sizes': [(50,50,50), (50,100,50), (100,)],\n",
    "    'activation': ['tanh', 'relu'],\n",
    "    'solver': ['sgd', 'adam'],\n",
    "    'alpha': [0.0001, 0.05],\n",
    "    'learning_rate': ['constant','adaptive'],\n",
    "}\n",
    "clf = GridSearchCV(mlp, parameter_space, n_jobs=-1, cv=5)\n",
    "clf.fit(X_dev, Y_dev)\n",
    "# Best paramete set\n",
    "#print('Best parameters found:\\n', clf.best_params_)\n",
    "\n",
    "# All results\n",
    "means = clf.cv_results_['mean_test_score']\n",
    "stds = clf.cv_results_['std_test_score']\n",
    "models = [clf,LogisticRegression(),GaussianNB(), DecisionTreeClassifier(), SVC()]\n",
    "names = [\"Multi-layer perceptron\",\"Logistic Regression\",\"Naive Bayes\", \"Decision Tree\", \"SVM\"]\n",
    "for model, name in zip(models, names):\n",
    "    print(name)\n",
    "\n",
    "    _ = cross_val_score(model, X_dev, Y_dev,scoring=scorer, cv=5) # Added assignment of the result to `_` in order to illustrate that the return value will not be used\n",
    "    results = scorer.get_results()\n",
    "\n",
    "    for metric_name in results.keys():\n",
    "        average_score = np.average(results[metric_name])\n",
    "        print('%s : %f' % (metric_name, average_score))\n",
    "\n",
    "\n"
   ]
  },
  {
   "cell_type": "markdown",
   "metadata": {},
   "source": [
    "<h3> Explore the development data and the serving data"
   ]
  },
  {
   "cell_type": "code",
   "execution_count": 19,
   "metadata": {},
   "outputs": [
    {
     "name": "stdout",
     "output_type": "stream",
     "text": [
      "Collecting tensorflow==2.2.0\n",
      "  Using cached tensorflow-2.2.0-cp37-cp37m-manylinux2010_x86_64.whl (516.2 MB)\n",
      "Requirement already satisfied: astunparse==1.6.3 in /home/chiara/anaconda3/lib/python3.7/site-packages (from tensorflow==2.2.0) (1.6.3)\n",
      "Requirement already satisfied: grpcio>=1.8.6 in /home/chiara/anaconda3/lib/python3.7/site-packages (from tensorflow==2.2.0) (1.33.2)\n",
      "Requirement already satisfied: gast==0.3.3 in /home/chiara/anaconda3/lib/python3.7/site-packages (from tensorflow==2.2.0) (0.3.3)\n",
      "Requirement already satisfied: wheel>=0.26; python_version >= \"3\" in /home/chiara/anaconda3/lib/python3.7/site-packages (from tensorflow==2.2.0) (0.34.2)\n",
      "Requirement already satisfied: h5py<2.11.0,>=2.10.0 in /home/chiara/anaconda3/lib/python3.7/site-packages (from tensorflow==2.2.0) (2.10.0)\n",
      "Requirement already satisfied: protobuf>=3.8.0 in /home/chiara/anaconda3/lib/python3.7/site-packages (from tensorflow==2.2.0) (3.14.0)\n",
      "Requirement already satisfied: scipy==1.4.1; python_version >= \"3\" in /home/chiara/anaconda3/lib/python3.7/site-packages (from tensorflow==2.2.0) (1.4.1)\n",
      "Requirement already satisfied: six>=1.12.0 in /home/chiara/anaconda3/lib/python3.7/site-packages (from tensorflow==2.2.0) (1.14.0)\n",
      "Collecting tensorflow-estimator<2.3.0,>=2.2.0\n",
      "  Using cached tensorflow_estimator-2.2.0-py2.py3-none-any.whl (454 kB)\n",
      "Requirement already satisfied: opt-einsum>=2.3.2 in /home/chiara/anaconda3/lib/python3.7/site-packages (from tensorflow==2.2.0) (3.3.0)\n",
      "Requirement already satisfied: google-pasta>=0.1.8 in /home/chiara/anaconda3/lib/python3.7/site-packages (from tensorflow==2.2.0) (0.2.0)\n",
      "Requirement already satisfied: keras-preprocessing>=1.1.0 in /home/chiara/anaconda3/lib/python3.7/site-packages (from tensorflow==2.2.0) (1.1.2)\n",
      "Collecting tensorboard<2.3.0,>=2.2.0\n",
      "  Using cached tensorboard-2.2.2-py3-none-any.whl (3.0 MB)\n",
      "Requirement already satisfied: termcolor>=1.1.0 in /home/chiara/anaconda3/lib/python3.7/site-packages (from tensorflow==2.2.0) (1.1.0)\n",
      "Requirement already satisfied: absl-py>=0.7.0 in /home/chiara/anaconda3/lib/python3.7/site-packages (from tensorflow==2.2.0) (0.10.0)\n",
      "Requirement already satisfied: numpy<2.0,>=1.16.0 in /home/chiara/anaconda3/lib/python3.7/site-packages (from tensorflow==2.2.0) (1.18.1)\n",
      "Requirement already satisfied: wrapt>=1.11.1 in /home/chiara/anaconda3/lib/python3.7/site-packages (from tensorflow==2.2.0) (1.11.2)\n",
      "Requirement already satisfied: tensorboard-plugin-wit>=1.6.0 in /home/chiara/anaconda3/lib/python3.7/site-packages (from tensorboard<2.3.0,>=2.2.0->tensorflow==2.2.0) (1.7.0)\n",
      "Requirement already satisfied: requests<3,>=2.21.0 in /home/chiara/anaconda3/lib/python3.7/site-packages (from tensorboard<2.3.0,>=2.2.0->tensorflow==2.2.0) (2.25.0)\n",
      "Requirement already satisfied: werkzeug>=0.11.15 in /home/chiara/anaconda3/lib/python3.7/site-packages (from tensorboard<2.3.0,>=2.2.0->tensorflow==2.2.0) (1.0.0)\n",
      "Requirement already satisfied: setuptools>=41.0.0 in /home/chiara/anaconda3/lib/python3.7/site-packages (from tensorboard<2.3.0,>=2.2.0->tensorflow==2.2.0) (45.2.0.post20200210)\n",
      "Requirement already satisfied: google-auth<2,>=1.6.3 in /home/chiara/anaconda3/lib/python3.7/site-packages (from tensorboard<2.3.0,>=2.2.0->tensorflow==2.2.0) (1.23.0)\n",
      "Requirement already satisfied: google-auth-oauthlib<0.5,>=0.4.1 in /home/chiara/anaconda3/lib/python3.7/site-packages (from tensorboard<2.3.0,>=2.2.0->tensorflow==2.2.0) (0.4.2)\n",
      "Requirement already satisfied: markdown>=2.6.8 in /home/chiara/anaconda3/lib/python3.7/site-packages (from tensorboard<2.3.0,>=2.2.0->tensorflow==2.2.0) (3.3.3)\n",
      "Requirement already satisfied: certifi>=2017.4.17 in /home/chiara/anaconda3/lib/python3.7/site-packages (from requests<3,>=2.21.0->tensorboard<2.3.0,>=2.2.0->tensorflow==2.2.0) (2019.11.28)\n",
      "Requirement already satisfied: urllib3<1.27,>=1.21.1 in /home/chiara/anaconda3/lib/python3.7/site-packages (from requests<3,>=2.21.0->tensorboard<2.3.0,>=2.2.0->tensorflow==2.2.0) (1.25.8)\n",
      "Requirement already satisfied: chardet<4,>=3.0.2 in /home/chiara/anaconda3/lib/python3.7/site-packages (from requests<3,>=2.21.0->tensorboard<2.3.0,>=2.2.0->tensorflow==2.2.0) (3.0.4)\n",
      "Requirement already satisfied: idna<3,>=2.5 in /home/chiara/anaconda3/lib/python3.7/site-packages (from requests<3,>=2.21.0->tensorboard<2.3.0,>=2.2.0->tensorflow==2.2.0) (2.8)\n",
      "Requirement already satisfied: cachetools<5.0,>=2.0.0 in /home/chiara/anaconda3/lib/python3.7/site-packages (from google-auth<2,>=1.6.3->tensorboard<2.3.0,>=2.2.0->tensorflow==2.2.0) (4.1.1)\n",
      "Requirement already satisfied: pyasn1-modules>=0.2.1 in /home/chiara/anaconda3/lib/python3.7/site-packages (from google-auth<2,>=1.6.3->tensorboard<2.3.0,>=2.2.0->tensorflow==2.2.0) (0.2.8)\n",
      "Requirement already satisfied: rsa<5,>=3.1.4; python_version >= \"3.5\" in /home/chiara/anaconda3/lib/python3.7/site-packages (from google-auth<2,>=1.6.3->tensorboard<2.3.0,>=2.2.0->tensorflow==2.2.0) (4.6)\n",
      "Requirement already satisfied: requests-oauthlib>=0.7.0 in /home/chiara/anaconda3/lib/python3.7/site-packages (from google-auth-oauthlib<0.5,>=0.4.1->tensorboard<2.3.0,>=2.2.0->tensorflow==2.2.0) (1.3.0)\n",
      "Requirement already satisfied: importlib-metadata; python_version < \"3.8\" in /home/chiara/anaconda3/lib/python3.7/site-packages (from markdown>=2.6.8->tensorboard<2.3.0,>=2.2.0->tensorflow==2.2.0) (1.5.0)\n",
      "Requirement already satisfied: pyasn1<0.5.0,>=0.4.6 in /home/chiara/anaconda3/lib/python3.7/site-packages (from pyasn1-modules>=0.2.1->google-auth<2,>=1.6.3->tensorboard<2.3.0,>=2.2.0->tensorflow==2.2.0) (0.4.8)\n",
      "Requirement already satisfied: oauthlib>=3.0.0 in /home/chiara/anaconda3/lib/python3.7/site-packages (from requests-oauthlib>=0.7.0->google-auth-oauthlib<0.5,>=0.4.1->tensorboard<2.3.0,>=2.2.0->tensorflow==2.2.0) (3.1.0)\n",
      "Requirement already satisfied: zipp>=0.5 in /home/chiara/anaconda3/lib/python3.7/site-packages (from importlib-metadata; python_version < \"3.8\"->markdown>=2.6.8->tensorboard<2.3.0,>=2.2.0->tensorflow==2.2.0) (2.2.0)\n",
      "\u001b[31mERROR: tfx-bsl 0.25.0 has requirement tensorflow!=2.0.*,!=2.1.*,!=2.2.*,<3,>=1.15.2, but you'll have tensorflow 2.2.0 which is incompatible.\u001b[0m\n",
      "\u001b[31mERROR: tensorflow-transform 0.25.0 has requirement tensorflow!=2.0.*,!=2.1.*,!=2.2.*,<2.4,>=1.15.2, but you'll have tensorflow 2.2.0 which is incompatible.\u001b[0m\n",
      "\u001b[31mERROR: tensorflow-serving-api 2.3.0 has requirement tensorflow<3,>=2.3, but you'll have tensorflow 2.2.0 which is incompatible.\u001b[0m\n",
      "\u001b[31mERROR: tensorflow-data-validation 0.25.0 has requirement tensorflow!=2.0.*,!=2.1.*,!=2.2.*,<3,>=1.15.2, but you'll have tensorflow 2.2.0 which is incompatible.\u001b[0m\n",
      "Installing collected packages: tensorflow-estimator, tensorboard, tensorflow\n",
      "  Attempting uninstall: tensorflow-estimator\n",
      "    Found existing installation: tensorflow-estimator 2.3.0\n",
      "    Uninstalling tensorflow-estimator-2.3.0:\n",
      "      Successfully uninstalled tensorflow-estimator-2.3.0\n",
      "  Attempting uninstall: tensorboard\n",
      "    Found existing installation: tensorboard 2.4.0\n",
      "    Uninstalling tensorboard-2.4.0:\n",
      "      Successfully uninstalled tensorboard-2.4.0\n",
      "  Attempting uninstall: tensorflow\n",
      "    Found existing installation: tensorflow 2.3.1\n",
      "    Uninstalling tensorflow-2.3.1:\n",
      "      Successfully uninstalled tensorflow-2.3.1\n",
      "Successfully installed tensorboard-2.2.2 tensorflow-2.2.0 tensorflow-estimator-2.2.0\n"
     ]
    }
   ],
   "source": [
    "!pip install tensorflow==2.2.0"
   ]
  },
  {
   "cell_type": "code",
   "execution_count": 20,
   "metadata": {},
   "outputs": [],
   "source": [
    "import sys\n",
    "\n",
    "# Confirm that we're using Python 3\n",
    "assert sys.version_info.major is 3, 'Oops, not running Python 3. Use Runtime > Change runtime type'"
   ]
  },
  {
   "cell_type": "code",
   "execution_count": 21,
   "metadata": {},
   "outputs": [
    {
     "name": "stdout",
     "output_type": "stream",
     "text": [
      "Installing TensorFlow Data Validation\n"
     ]
    }
   ],
   "source": [
    "import tensorflow as tf\n",
    "\n",
    "print('Installing TensorFlow Data Validation')\n",
    "!pip install -q tensorflow_data_validation[visualization]"
   ]
  },
  {
   "cell_type": "code",
   "execution_count": 22,
   "metadata": {},
   "outputs": [
    {
     "name": "stdout",
     "output_type": "stream",
     "text": [
      "TFDV version: 0.25.0\n"
     ]
    }
   ],
   "source": [
    "import tensorflow_data_validation as tfdv\n",
    "print('TFDV version: {}'.format(tfdv.version.__version__))"
   ]
  },
  {
   "cell_type": "code",
   "execution_count": 23,
   "metadata": {},
   "outputs": [
    {
     "name": "stderr",
     "output_type": "stream",
     "text": [
      "WARNING:apache_beam.runners.interactive.interactive_environment:Dependencies required for Interactive Beam PCollection visualization are not available, please use: `pip install apache-beam[interactive]` to install necessary dependencies to enable all data visualization features.\n"
     ]
    },
    {
     "data": {
      "application/javascript": [
       "\n",
       "        if (typeof window.interactive_beam_jquery == 'undefined') {\n",
       "          var jqueryScript = document.createElement('script');\n",
       "          jqueryScript.src = 'https://code.jquery.com/jquery-3.4.1.slim.min.js';\n",
       "          jqueryScript.type = 'text/javascript';\n",
       "          jqueryScript.onload = function() {\n",
       "            var datatableScript = document.createElement('script');\n",
       "            datatableScript.src = 'https://cdn.datatables.net/1.10.20/js/jquery.dataTables.min.js';\n",
       "            datatableScript.type = 'text/javascript';\n",
       "            datatableScript.onload = function() {\n",
       "              window.interactive_beam_jquery = jQuery.noConflict(true);\n",
       "              window.interactive_beam_jquery(document).ready(function($){\n",
       "                \n",
       "              });\n",
       "            }\n",
       "            document.head.appendChild(datatableScript);\n",
       "          };\n",
       "          document.head.appendChild(jqueryScript);\n",
       "        } else {\n",
       "          window.interactive_beam_jquery(document).ready(function($){\n",
       "            \n",
       "          });\n",
       "        }"
      ]
     },
     "metadata": {},
     "output_type": "display_data"
    },
    {
     "data": {
      "application/javascript": [
       "\n",
       "        var import_html = () => {\n",
       "          ['https://raw.githubusercontent.com/PAIR-code/facets/1.0.0/facets-dist/facets-jupyter.html'].forEach(href => {\n",
       "            var link = document.createElement('link');\n",
       "            link.rel = 'import'\n",
       "            link.href = href;\n",
       "            document.head.appendChild(link);\n",
       "          });\n",
       "        }\n",
       "        if ('import' in document.createElement('link')) {\n",
       "          import_html();\n",
       "        } else {\n",
       "          var webcomponentScript = document.createElement('script');\n",
       "          webcomponentScript.src = 'https://cdnjs.cloudflare.com/ajax/libs/webcomponentsjs/1.3.3/webcomponents-lite.js';\n",
       "          webcomponentScript.type = 'text/javascript';\n",
       "          webcomponentScript.onload = function(){\n",
       "            import_html();\n",
       "          };\n",
       "          document.head.appendChild(webcomponentScript);\n",
       "        }"
      ]
     },
     "metadata": {},
     "output_type": "display_data"
    },
    {
     "name": "stderr",
     "output_type": "stream",
     "text": [
      "WARNING:apache_beam.io.tfrecordio:Couldn't find python-snappy so the implementation of _TFRecordUtil._masked_crc32c is not as fast as it could be.\n"
     ]
    },
    {
     "name": "stdout",
     "output_type": "stream",
     "text": [
      "WARNING:tensorflow:From /home/chiara/anaconda3/lib/python3.7/site-packages/tensorflow_data_validation/utils/stats_util.py:247: tf_record_iterator (from tensorflow.python.lib.io.tf_record) is deprecated and will be removed in a future version.\n",
      "Instructions for updating:\n",
      "Use eager execution and: \n",
      "`tf.data.TFRecordDataset(path)`\n"
     ]
    },
    {
     "name": "stderr",
     "output_type": "stream",
     "text": [
      "WARNING:tensorflow:From /home/chiara/anaconda3/lib/python3.7/site-packages/tensorflow_data_validation/utils/stats_util.py:247: tf_record_iterator (from tensorflow.python.lib.io.tf_record) is deprecated and will be removed in a future version.\n",
      "Instructions for updating:\n",
      "Use eager execution and: \n",
      "`tf.data.TFRecordDataset(path)`\n"
     ]
    }
   ],
   "source": [
    "train_stats = tfdv.generate_statistics_from_csv(data_location=\"data/dev_data.csv\")"
   ]
  },
  {
   "cell_type": "code",
   "execution_count": 24,
   "metadata": {},
   "outputs": [
    {
     "data": {
      "text/html": [
       "<iframe id='facets-iframe' width=\"100%\" height=\"500px\"></iframe>\n",
       "        <script>\n",
       "        facets_iframe = document.getElementById('facets-iframe');\n",
       "        facets_html = '<script src=\"https://cdnjs.cloudflare.com/ajax/libs/webcomponentsjs/1.3.3/webcomponents-lite.js\"><\\/script><link rel=\"import\" href=\"https://raw.githubusercontent.com/PAIR-code/facets/master/facets-dist/facets-jupyter.html\"><facets-overview proto-input=\"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\"></facets-overview>';\n",
       "        facets_iframe.srcdoc = facets_html;\n",
       "         facets_iframe.id = \"\";\n",
       "         setTimeout(() => {\n",
       "           facets_iframe.setAttribute('height', facets_iframe.contentWindow.document.body.offsetHeight + 'px')\n",
       "         }, 1500)\n",
       "         </script>"
      ],
      "text/plain": [
       "<IPython.core.display.HTML object>"
      ]
     },
     "metadata": {},
     "output_type": "display_data"
    }
   ],
   "source": [
    "tfdv.visualize_statistics(train_stats)"
   ]
  },
  {
   "cell_type": "markdown",
   "metadata": {},
   "source": [
    "<h3> Infer a schema"
   ]
  },
  {
   "cell_type": "code",
   "execution_count": 25,
   "metadata": {},
   "outputs": [
    {
     "data": {
      "text/html": [
       "<div>\n",
       "<style scoped>\n",
       "    .dataframe tbody tr th:only-of-type {\n",
       "        vertical-align: middle;\n",
       "    }\n",
       "\n",
       "    .dataframe tbody tr th {\n",
       "        vertical-align: top;\n",
       "    }\n",
       "\n",
       "    .dataframe thead th {\n",
       "        text-align: right;\n",
       "    }\n",
       "</style>\n",
       "<table border=\"1\" class=\"dataframe\">\n",
       "  <thead>\n",
       "    <tr style=\"text-align: right;\">\n",
       "      <th></th>\n",
       "      <th>Type</th>\n",
       "      <th>Presence</th>\n",
       "      <th>Valency</th>\n",
       "      <th>Domain</th>\n",
       "    </tr>\n",
       "    <tr>\n",
       "      <th>Feature name</th>\n",
       "      <th></th>\n",
       "      <th></th>\n",
       "      <th></th>\n",
       "      <th></th>\n",
       "    </tr>\n",
       "  </thead>\n",
       "  <tbody>\n",
       "    <tr>\n",
       "      <th>'age'</th>\n",
       "      <td>INT</td>\n",
       "      <td>required</td>\n",
       "      <td></td>\n",
       "      <td>-</td>\n",
       "    </tr>\n",
       "    <tr>\n",
       "      <th>'sex'</th>\n",
       "      <td>INT</td>\n",
       "      <td>required</td>\n",
       "      <td></td>\n",
       "      <td>-</td>\n",
       "    </tr>\n",
       "    <tr>\n",
       "      <th>'cp'</th>\n",
       "      <td>INT</td>\n",
       "      <td>required</td>\n",
       "      <td></td>\n",
       "      <td>-</td>\n",
       "    </tr>\n",
       "    <tr>\n",
       "      <th>'trestbps'</th>\n",
       "      <td>INT</td>\n",
       "      <td>required</td>\n",
       "      <td></td>\n",
       "      <td>-</td>\n",
       "    </tr>\n",
       "    <tr>\n",
       "      <th>'chol'</th>\n",
       "      <td>INT</td>\n",
       "      <td>required</td>\n",
       "      <td></td>\n",
       "      <td>-</td>\n",
       "    </tr>\n",
       "    <tr>\n",
       "      <th>'fbs'</th>\n",
       "      <td>INT</td>\n",
       "      <td>required</td>\n",
       "      <td></td>\n",
       "      <td>-</td>\n",
       "    </tr>\n",
       "    <tr>\n",
       "      <th>'restecg'</th>\n",
       "      <td>INT</td>\n",
       "      <td>required</td>\n",
       "      <td></td>\n",
       "      <td>-</td>\n",
       "    </tr>\n",
       "    <tr>\n",
       "      <th>'thalach'</th>\n",
       "      <td>INT</td>\n",
       "      <td>required</td>\n",
       "      <td></td>\n",
       "      <td>-</td>\n",
       "    </tr>\n",
       "    <tr>\n",
       "      <th>'exang'</th>\n",
       "      <td>INT</td>\n",
       "      <td>required</td>\n",
       "      <td></td>\n",
       "      <td>-</td>\n",
       "    </tr>\n",
       "    <tr>\n",
       "      <th>'oldpeak'</th>\n",
       "      <td>FLOAT</td>\n",
       "      <td>required</td>\n",
       "      <td></td>\n",
       "      <td>-</td>\n",
       "    </tr>\n",
       "    <tr>\n",
       "      <th>'slope'</th>\n",
       "      <td>INT</td>\n",
       "      <td>required</td>\n",
       "      <td></td>\n",
       "      <td>-</td>\n",
       "    </tr>\n",
       "    <tr>\n",
       "      <th>'ca'</th>\n",
       "      <td>INT</td>\n",
       "      <td>required</td>\n",
       "      <td></td>\n",
       "      <td>-</td>\n",
       "    </tr>\n",
       "    <tr>\n",
       "      <th>'thal'</th>\n",
       "      <td>INT</td>\n",
       "      <td>required</td>\n",
       "      <td></td>\n",
       "      <td>-</td>\n",
       "    </tr>\n",
       "    <tr>\n",
       "      <th>'target'</th>\n",
       "      <td>INT</td>\n",
       "      <td>required</td>\n",
       "      <td></td>\n",
       "      <td>-</td>\n",
       "    </tr>\n",
       "  </tbody>\n",
       "</table>\n",
       "</div>"
      ],
      "text/plain": [
       "               Type  Presence Valency Domain\n",
       "Feature name                                \n",
       "'age'           INT  required              -\n",
       "'sex'           INT  required              -\n",
       "'cp'            INT  required              -\n",
       "'trestbps'      INT  required              -\n",
       "'chol'          INT  required              -\n",
       "'fbs'           INT  required              -\n",
       "'restecg'       INT  required              -\n",
       "'thalach'       INT  required              -\n",
       "'exang'         INT  required              -\n",
       "'oldpeak'     FLOAT  required              -\n",
       "'slope'         INT  required              -\n",
       "'ca'            INT  required              -\n",
       "'thal'          INT  required              -\n",
       "'target'        INT  required              -"
      ]
     },
     "metadata": {},
     "output_type": "display_data"
    }
   ],
   "source": [
    "schema = tfdv.infer_schema(statistics=train_stats)\n",
    "tfdv.display_schema(schema=schema)"
   ]
  },
  {
   "cell_type": "markdown",
   "metadata": {},
   "source": [
    "<h3>Check serving data aganist schema"
   ]
  },
  {
   "cell_type": "code",
   "execution_count": 31,
   "metadata": {},
   "outputs": [
    {
     "data": {
      "text/html": [
       "<h4 style=\"color:green;\">No anomalies found.</h4>"
      ],
      "text/plain": [
       "<IPython.core.display.HTML object>"
      ]
     },
     "metadata": {},
     "output_type": "display_data"
    }
   ],
   "source": [
    "serving_stats = tfdv.generate_statistics_from_csv(\"data/serv_data.csv\")\n",
    "serving_anomalies = tfdv.validate_statistics(serving_stats, schema)\n",
    "\n",
    "tfdv.display_anomalies(serving_anomalies)"
   ]
  },
  {
   "cell_type": "code",
   "execution_count": 34,
   "metadata": {},
   "outputs": [
    {
     "data": {
      "text/html": [
       "<h4 style=\"color:green;\">No anomalies found.</h4>"
      ],
      "text/plain": [
       "<IPython.core.display.HTML object>"
      ]
     },
     "metadata": {},
     "output_type": "display_data"
    }
   ],
   "source": [
    "# Add skew comparator for 'payment_type' feature.\n",
    "payment_type = tfdv.get_feature(schema, 'restecg')\n",
    "payment_type.skew_comparator.infinity_norm.threshold = 0.01\n",
    "\n",
    "# Add drift comparator for 'company' feature.\n",
    "company=tfdv.get_feature(schema, 'exang')\n",
    "company.drift_comparator.infinity_norm.threshold = 0.01\n",
    "\n",
    "skew_anomalies = tfdv.validate_statistics(train_stats, schema,\n",
    "                                          previous_statistics=eval_stats,\n",
    "                                          serving_statistics=serving_stats)\n",
    "\n",
    "tfdv.display_anomalies(skew_anomalies)"
   ]
  },
  {
   "cell_type": "code",
   "execution_count": null,
   "metadata": {},
   "outputs": [],
   "source": [
    "\n",
    "\n",
    "\n",
    "\n",
    "\n",
    "\n",
    "\n",
    "\n",
    "\n",
    "\n",
    "\n",
    "\n",
    "\n",
    "\n",
    "\n",
    "\n",
    "\n",
    "\n",
    "\n",
    "\n",
    "\n",
    "\n",
    "\n",
    "\n",
    "\n",
    "\n",
    "\n",
    "\n",
    "\n",
    "\n"
   ]
  }
 ],
 "metadata": {
  "kernelspec": {
   "display_name": "Python 3",
   "language": "python",
   "name": "python3"
  },
  "language_info": {
   "codemirror_mode": {
    "name": "ipython",
    "version": 3
   },
   "file_extension": ".py",
   "mimetype": "text/x-python",
   "name": "python",
   "nbconvert_exporter": "python",
   "pygments_lexer": "ipython3",
   "version": "3.7.6"
  }
 },
 "nbformat": 4,
 "nbformat_minor": 4
}
